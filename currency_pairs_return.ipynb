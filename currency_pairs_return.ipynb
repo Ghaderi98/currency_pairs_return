{
  "nbformat": 4,
  "nbformat_minor": 0,
  "metadata": {
    "colab": {
      "provenance": []
    },
    "kernelspec": {
      "name": "python3",
      "display_name": "Python 3"
    },
    "language_info": {
      "name": "python"
    }
  },
  "cells": [
    {
      "cell_type": "code",
      "source": [
        "import yfinance as yf\n",
        "import datetime as dt\n",
        "import pandas as pd\n",
        "\n",
        "# Define the start and end dates\n",
        "start_date = dt.datetime(2021, 1, 1)\n",
        "end_date = dt.datetime(2021, 12, 31)\n",
        "\n",
        "# Download the data for Bitcoin\n",
        "btc = yf.download('BTC-USD', start=start_date, end=end_date)\n",
        "\n",
        "# Download the data for Ethereum\n",
        "eth = yf.download('ETH-USD', start=start_date, end=end_date)\n",
        "\n",
        "# Calculate weekly returns\n",
        "btc['weekly_returns'] = btc['Close'].resample('W').ffill().pct_change()\n",
        "eth['weekly_returns'] = eth['Close'].resample('W').ffill().pct_change()\n",
        "\n",
        "# Calculate monthly returns\n",
        "btc['monthly_returns'] = btc['Close'].resample('M').ffill().pct_change()\n",
        "eth['monthly_returns'] = eth['Close'].resample('M').ffill().pct_change()\n",
        "\n",
        "# Calculate the weights\n",
        "btc_return_weekly = (btc['Close'].resample('W').last() - btc['Close'].resample('W').first()) / btc['Close'].resample('W').first()\n",
        "eth_return_weekly = (eth['Close'].resample('W').last() - eth['Close'].resample('W').first()) / eth['Close'].resample('W').first()\n",
        "total_return_weekly = btc_return_weekly + eth_return_weekly\n",
        "btc_weight_weekly = btc_return_weekly / total_return_weekly\n",
        "eth_weight_weekly = eth_return_weekly / total_return_weekly\n",
        "\n",
        "btc_return_monthly = (btc['Close'].resample('M').last() - btc['Close'].resample('M').first()) / btc['Close'].resample('M').first()\n",
        "eth_return_monthly = (eth['Close'].resample('M').last() - eth['Close'].resample('M').first()) / eth['Close'].resample('M').first()\n",
        "total_return_monthly = btc_return_monthly + eth_return_monthly\n",
        "btc_weight_monthly = btc_return_monthly / total_return_monthly\n",
        "eth_weight_monthly = eth_return_monthly / total_return_monthly\n",
        "\n",
        "# Calculate portfolio returns\n",
        "portfolio_return_weekly = btc_weight_weekly * btc['weekly_returns'] + eth_weight_weekly * eth['weekly_returns']\n",
        "portfolio_weekly_return = portfolio_return_weekly.mean() * 100\n",
        "\n",
        "portfolio_return_monthly = btc_weight_monthly * btc['monthly_returns'] + eth_weight_monthly * eth['monthly_returns']\n",
        "portfolio_monthly_return = portfolio_return_monthly.mean() * 100\n",
        "\n",
        "# Print the results\n",
        "print(\"Weekly return of BTC/USD and ETH/USD portfolio is {:.2f}%\".format(portfolio_weekly_return))\n",
        "print(\"Monthly return of BTC/USD and ETH/USD portfolio is {:.2f}%\".format(portfolio_monthly_return))"
      ],
      "metadata": {
        "id": "zS_LTKdEzetE"
      },
      "execution_count": null,
      "outputs": []
    }
  ]
}